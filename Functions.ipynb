{
  "nbformat": 4,
  "nbformat_minor": 0,
  "metadata": {
    "colab": {
      "name": "Functions",
      "provenance": [],
      "collapsed_sections": [],
      "authorship_tag": "ABX9TyNdlemn+15BYFiqHarmpgrw",
      "include_colab_link": true
    },
    "kernelspec": {
      "name": "python3",
      "display_name": "Python 3"
    },
    "language_info": {
      "name": "python"
    }
  },
  "cells": [
    {
      "cell_type": "markdown",
      "metadata": {
        "id": "view-in-github",
        "colab_type": "text"
      },
      "source": [
        "<a href=\"https://colab.research.google.com/github/sirisha1398/Python/blob/main/Functions.ipynb\" target=\"_parent\"><img src=\"https://colab.research.google.com/assets/colab-badge.svg\" alt=\"Open In Colab\"/></a>"
      ]
    },
    {
      "cell_type": "code",
      "execution_count": 8,
      "metadata": {
        "id": "md45AxJbPX5i",
        "colab": {
          "base_uri": "https://localhost:8080/"
        },
        "outputId": "fbbc6fd6-de05-430b-a7e6-b6294123e503"
      },
      "outputs": [
        {
          "output_type": "stream",
          "name": "stdout",
          "text": [
            "siri is playing\n"
          ]
        }
      ],
      "source": [
        "##CALLING A FUNCTION\n",
        "\n",
        "def siri():\n",
        "  print(\"siri is playing\")\n",
        "siri()"
      ]
    },
    {
      "cell_type": "code",
      "source": [
        "##PRINT FIRST AND LAST NAMES (ARGUMENTS)\n",
        "\n",
        "def a(firstname):\n",
        "  print(firstname + \" rao\")\n",
        "a(\"siri\")\n",
        "a(\"tanusha\")\n",
        "a(\"sudheshna\") "
      ],
      "metadata": {
        "colab": {
          "base_uri": "https://localhost:8080/"
        },
        "id": "sKkcfNDRV5W8",
        "outputId": "6bd63c20-d9a9-448e-c3af-bc57b732ba27"
      },
      "execution_count": 10,
      "outputs": [
        {
          "output_type": "stream",
          "name": "stdout",
          "text": [
            "siri rao\n",
            "tanusha rao\n",
            "sudheshna rao\n"
          ]
        }
      ]
    },
    {
      "cell_type": "code",
      "source": [
        "##RETURN VALUES\n",
        "\n",
        "def Y(x):\n",
        "  return 5 * x\n",
        "\n",
        "print(Y(3))\n",
        "print(Y(5))\n",
        "print(Y(9))"
      ],
      "metadata": {
        "colab": {
          "base_uri": "https://localhost:8080/"
        },
        "id": "W4-VIqbjappp",
        "outputId": "76fed7e4-86f1-46ca-fe12-b52f4ac7afd4"
      },
      "execution_count": 14,
      "outputs": [
        {
          "output_type": "stream",
          "name": "stdout",
          "text": [
            "15\n",
            "25\n",
            "45\n"
          ]
        }
      ]
    },
    {
      "cell_type": "code",
      "source": [
        "def X(name, msg=\"Good morning!\"):\n",
        "    \n",
        "    print(\"Hello\", name + ', ' + msg)\n",
        "\n",
        "X(\"Kate\")\n",
        "X(\"Bruce\", \"How do you do?\")"
      ],
      "metadata": {
        "colab": {
          "base_uri": "https://localhost:8080/"
        },
        "id": "5n7MQKzuc316",
        "outputId": "c77d55df-54d5-4e71-c2d8-c799340c2329"
      },
      "execution_count": 15,
      "outputs": [
        {
          "output_type": "stream",
          "name": "stdout",
          "text": [
            "Hello Kate, Good morning!\n",
            "Hello Bruce, How do you do?\n"
          ]
        }
      ]
    },
    {
      "cell_type": "code",
      "source": [
        "def voting(firstname):\n",
        "  print(firstname + \" rao\")\n",
        "voting(\"siri\")\n",
        "voting(\"tanusha\")\n",
        "voting(\"sudheshna\") "
      ],
      "metadata": {
        "id": "ljhYNtDfeABo"
      },
      "execution_count": null,
      "outputs": []
    },
    {
      "cell_type": "code",
      "source": [
        "age = int(input(\"Enter age of a user: \"))\n",
        "\n",
        "if age >= 18:\n",
        "    print(\"User is eligible for voting: \", age)\n",
        "else:\n",
        "    print(\"User is not eligible for voting: \", age)"
      ],
      "metadata": {
        "id": "s25Caf6RfBwS"
      },
      "execution_count": null,
      "outputs": []
    }
  ]
}