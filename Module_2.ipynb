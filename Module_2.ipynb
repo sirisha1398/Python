{
  "nbformat": 4,
  "nbformat_minor": 0,
  "metadata": {
    "colab": {
      "name": "Module 2",
      "provenance": [],
      "collapsed_sections": [],
      "authorship_tag": "ABX9TyPyBznmV5NkAu74I0n0Srxn",
      "include_colab_link": true
    },
    "kernelspec": {
      "name": "python3",
      "display_name": "Python 3"
    },
    "language_info": {
      "name": "python"
    }
  },
  "cells": [
    {
      "cell_type": "markdown",
      "metadata": {
        "id": "view-in-github",
        "colab_type": "text"
      },
      "source": [
        "<a href=\"https://colab.research.google.com/github/sirisha1398/Python/blob/main/Module_2.ipynb\" target=\"_parent\"><img src=\"https://colab.research.google.com/assets/colab-badge.svg\" alt=\"Open In Colab\"/></a>"
      ]
    },
    {
      "cell_type": "code",
      "source": [
        "##Create a function which accepts two inputs from the user and compute nCr\n",
        "\n",
        "def nCr(a,b):\n",
        "   return(fact(a)/(fact(b)\n",
        "                 *fact(a-b)))\n",
        "a=int(input(\"\"))\n",
        "b=int(input(\"\"))\n",
        "def fact(a):\n",
        "    res=1\n",
        "    for i in range(2,a+1):\n",
        "      res =res*1\n",
        "    return res\n",
        "print(int(nCr(a,b)))    "
      ],
      "metadata": {
        "colab": {
          "base_uri": "https://localhost:8080/"
        },
        "id": "nXmNYg6gsjSK",
        "outputId": "413ff976-94eb-4ac8-c3c1-71b31c704a7d"
      },
      "execution_count": null,
      "outputs": [
        {
          "output_type": "stream",
          "name": "stdout",
          "text": [
            "5\n",
            "5\n",
            "1\n"
          ]
        }
      ]
    },
    {
      "cell_type": "code",
      "source": [
        "##Program to print a specified list after removing the 0th, 4th and 5th elements\n",
        "\n",
        "list= ['Red', 'Green', 'White', 'Black', 'Pink', 'Yellow']\n",
        "list.pop(0)\n",
        "list.pop(3)\n",
        "list.pop()\n",
        "print(list)"
      ],
      "metadata": {
        "colab": {
          "base_uri": "https://localhost:8080/"
        },
        "id": "NaotW6fjHR4U",
        "outputId": "a7df7ea1-8091-45b2-ca55-26c4fc477091"
      },
      "execution_count": 50,
      "outputs": [
        {
          "output_type": "stream",
          "name": "stdout",
          "text": [
            "['Green', 'White', 'Black']\n"
          ]
        }
      ]
    },
    {
      "cell_type": "code",
      "execution_count": null,
      "metadata": {
        "colab": {
          "base_uri": "https://localhost:8080/"
        },
        "id": "vVvvQdFdd1Dm",
        "outputId": "981ed6cd-e00b-47f1-bf5e-7d96c515cc21"
      },
      "outputs": [
        {
          "output_type": "stream",
          "name": "stdout",
          "text": [
            "[10, 20, 30, 15]\n"
          ]
        }
      ],
      "source": [
        "## Program to get the difference between the two lists\n",
        "\n",
        "def Diff(li1, li2):\n",
        " return list(set(li1) - set(li2)) + list(set(li2) - set(li1))\n",
        "li1 = [10, 15, 20, 25, 30, 35, 40]\n",
        "li2 = [25, 40, 35]\n",
        "print(Diff(li1, li2))"
      ]
    },
    {
      "cell_type": "code",
      "source": [
        "##Program to find the second smallest number and second largest number in a list\n",
        "\n",
        "x=[6,7,5,8,9,3,2]\n",
        "x.sort(reverse=True)\n",
        "print(x[1],x[-4])\n"
      ],
      "metadata": {
        "colab": {
          "base_uri": "https://localhost:8080/"
        },
        "id": "YeAhk14--Sde",
        "outputId": "f2de694e-48bd-4393-fbdf-12c489b0a286"
      },
      "execution_count": 24,
      "outputs": [
        {
          "output_type": "stream",
          "name": "stdout",
          "text": [
            "8 6\n"
          ]
        }
      ]
    },
    {
      "cell_type": "code",
      "source": [
        "##Python program to create a list of tuples having first element as the number and second element as the square of the number \n",
        "\n",
        "list1 = [1, 2, 5, 6]  \n",
        "res = [(val, pow(val, 2)) for val in list1]\n",
        "print(res)"
      ],
      "metadata": {
        "colab": {
          "base_uri": "https://localhost:8080/"
        },
        "id": "VSK8L7TBqfWO",
        "outputId": "81670e31-c846-4435-c22c-d1dd039ae5b6"
      },
      "execution_count": null,
      "outputs": [
        {
          "output_type": "stream",
          "name": "stdout",
          "text": [
            "[(1, 1), (2, 4), (5, 25), (6, 36)]\n"
          ]
        }
      ]
    },
    {
      "cell_type": "code",
      "source": [
        "##Given list of tuples, remove all the tuples with length K.\n",
        "\n",
        "test_list = [(4, 5), (4, ), (8, 6, 7), (1, ), (3, 4, 6, 7)]\n",
        "print(\"The original list : \" + str(test_list)) \n",
        "K=1\n",
        "res = [ele for ele in test_list if len(ele) != K]\n",
        "print(\"Filtered list : \" + str(res))"
      ],
      "metadata": {
        "colab": {
          "base_uri": "https://localhost:8080/"
        },
        "id": "xy9yr9nEwimi",
        "outputId": "26e7e7fb-a9aa-4feb-f153-d1011a43eb34"
      },
      "execution_count": null,
      "outputs": [
        {
          "output_type": "stream",
          "name": "stdout",
          "text": [
            "The original list : [(4, 5), (4,), (8, 6, 7), (1,), (3, 4, 6, 7)]\n",
            "Filtered list : [(4, 5), (8, 6, 7), (3, 4, 6, 7)]\n"
          ]
        }
      ]
    },
    {
      "cell_type": "code",
      "source": [
        "##Program to remove a key from a dictionary\n",
        "\n",
        "myDict = {'a':1,'b':2,'c':3,'d':4}\n",
        "print(myDict)\n",
        "if 'a' in myDict: \n",
        "    del myDict['a']\n",
        "print(myDict)"
      ],
      "metadata": {
        "colab": {
          "base_uri": "https://localhost:8080/"
        },
        "id": "ENEuKcwqxskz",
        "outputId": "ab3e1d7c-ba1e-4cf8-e071-2376484fa536"
      },
      "execution_count": null,
      "outputs": [
        {
          "output_type": "stream",
          "name": "stdout",
          "text": [
            "{'a': 1, 'b': 2, 'c': 3, 'd': 4}\n",
            "{'b': 2, 'c': 3, 'd': 4}\n"
          ]
        }
      ]
    },
    {
      "cell_type": "code",
      "source": [
        "##Program to generate and print a dictionary that contains a number (between 1 and n) in the form (x, x*x).\n",
        "\n",
        "n=int(input(\"Input a number \"))\n",
        "d = dict()\n",
        "for x in range(1,n+1):\n",
        "    d[x]=x*x\n",
        "print(d) "
      ],
      "metadata": {
        "colab": {
          "base_uri": "https://localhost:8080/"
        },
        "id": "N6QylnI61C5Z",
        "outputId": "8e4d52df-0fd2-4068-b365-e50862a0e1a3"
      },
      "execution_count": 4,
      "outputs": [
        {
          "output_type": "stream",
          "name": "stdout",
          "text": [
            "Input a number 5\n",
            "{1: 1, 2: 4, 3: 9, 4: 16, 5: 25}\n"
          ]
        }
      ]
    },
    {
      "cell_type": "code",
      "source": [
        "##Program to get the maximum and minimum value in a dictionary.\n",
        "\n",
        "a = {50,867,999,4,1000,22}\n",
        "print(max(a),min(a))"
      ],
      "metadata": {
        "colab": {
          "base_uri": "https://localhost:8080/"
        },
        "id": "tzA5JUHs2dDg",
        "outputId": "df560bdc-6902-4e83-a737-c5d6cd9dd5ba"
      },
      "execution_count": 7,
      "outputs": [
        {
          "output_type": "stream",
          "name": "stdout",
          "text": [
            "1000 4\n"
          ]
        }
      ]
    },
    {
      "cell_type": "code",
      "source": [
        "##Program to perform operations on string using unicodes ,splitting of string,accessing elements of string using locations\n",
        "\n",
        "a= \"i'm playing hockey\"\n",
        "print(a.split())\n",
        "print(a[2:8])"
      ],
      "metadata": {
        "colab": {
          "base_uri": "https://localhost:8080/"
        },
        "id": "1yM5Y2rB45Ro",
        "outputId": "bef09d6a-17f2-4629-8279-dacc6a841348"
      },
      "execution_count": 17,
      "outputs": [
        {
          "output_type": "stream",
          "name": "stdout",
          "text": [
            "[\"i'm\", 'playing', 'hockey']\n",
            "m play\n"
          ]
        }
      ]
    },
    {
      "cell_type": "code",
      "source": [
        "##Program for Counting occurrence of a certain element in a string, getting indexes that have matching elements\n",
        "\n",
        "p= \"i am having dinner with my bestfriends at my home\"\n",
        "print(p.count(\"i\"))"
      ],
      "metadata": {
        "colab": {
          "base_uri": "https://localhost:8080/"
        },
        "id": "tjujbgBB6y03",
        "outputId": "2c146ce2-c25e-4924-ee86-313d0cb9a118"
      },
      "execution_count": 20,
      "outputs": [
        {
          "output_type": "stream",
          "name": "stdout",
          "text": [
            "5\n"
          ]
        }
      ]
    },
    {
      "cell_type": "code",
      "source": [
        "##Program for replacing one substring by another\n",
        "\n",
        "p=\"classicbrownie\"\n",
        "print (p.replace(\"s\" , \"o\" ))"
      ],
      "metadata": {
        "colab": {
          "base_uri": "https://localhost:8080/"
        },
        "id": "hINXjSd_82C-",
        "outputId": "7cc673e0-12f4-406c-82b5-0f0b80f09295"
      },
      "execution_count": 21,
      "outputs": [
        {
          "output_type": "stream",
          "name": "stdout",
          "text": [
            "claooicbrownie\n"
          ]
        }
      ]
    },
    {
      "cell_type": "code",
      "source": [
        "##Program to Acronym generator for any user input \n",
        "\n",
        "import random\n",
        "y=input(\"enter the command \")\n",
        "if \"roll\"==y:\n",
        "    for x in range(6):\n",
        "        y=random.randint(1,6)\n",
        "        print(y)"
      ],
      "metadata": {
        "colab": {
          "base_uri": "https://localhost:8080/"
        },
        "id": "rz3XMsDGEntz",
        "outputId": "499908b1-a411-4b39-fa00-7c97784af797"
      },
      "execution_count": 40,
      "outputs": [
        {
          "output_type": "stream",
          "name": "stdout",
          "text": [
            "enter the command roll\n",
            "6\n",
            "3\n",
            "2\n",
            "4\n",
            "6\n",
            "5\n"
          ]
        }
      ]
    },
    {
      "cell_type": "code",
      "source": [
        "##Python function that accepts a string and calculates the number of uppercase letters and lowercase letters.\n",
        "\n",
        "def string(a):\n",
        "    u=0;l=0\n",
        "    for x in a:\n",
        "        if x.isupper():\n",
        "           u=u+1\n",
        "        else:\n",
        "           l=l+1\n",
        "    print(\"the lower values\", l)\n",
        "    print(\"the upper values\", u)\n",
        "\n",
        "string(\"SiriSHa\")"
      ],
      "metadata": {
        "colab": {
          "base_uri": "https://localhost:8080/"
        },
        "id": "mL6BTLAbH31b",
        "outputId": "da905829-ab74-4343-b3a9-f4ceba2ef57f"
      },
      "execution_count": 55,
      "outputs": [
        {
          "output_type": "stream",
          "name": "stdout",
          "text": [
            "the lower values 4\n",
            "the upper values 3\n"
          ]
        }
      ]
    },
    {
      "cell_type": "code",
      "source": [
        "##Program to count the number of strings where the string length is 2 or more and the first and last character are same from a given list of strings\n",
        "\n",
        "a=['abc', 'xyz', 'aba', '1221' ]\n",
        "c=0\n",
        "for x in a :\n",
        "    if len(x)>=2:\n",
        "        if x[0]==x[-1]:\n",
        "            c=c+1\n",
        "print(\"the string of length 2 is\",c)"
      ],
      "metadata": {
        "colab": {
          "base_uri": "https://localhost:8080/"
        },
        "id": "arRJJi9dFhuF",
        "outputId": "6d7ff378-20c5-457f-a407-2f0522fa5012"
      },
      "execution_count": 49,
      "outputs": [
        {
          "output_type": "stream",
          "name": "stdout",
          "text": [
            "the string of length 2 is 2\n"
          ]
        }
      ]
    }
  ]
}