{
  "nbformat": 4,
  "nbformat_minor": 0,
  "metadata": {
    "colab": {
      "name": "Practicse 2",
      "provenance": [],
      "collapsed_sections": [],
      "authorship_tag": "ABX9TyNBljrMQywcMwPvN13c9aiB",
      "include_colab_link": true
    },
    "kernelspec": {
      "name": "python3",
      "display_name": "Python 3"
    },
    "language_info": {
      "name": "python"
    }
  },
  "cells": [
    {
      "cell_type": "markdown",
      "metadata": {
        "id": "view-in-github",
        "colab_type": "text"
      },
      "source": [
        "<a href=\"https://colab.research.google.com/github/sirisha1398/Python/blob/main/Practicse_2.ipynb\" target=\"_parent\"><img src=\"https://colab.research.google.com/assets/colab-badge.svg\" alt=\"Open In Colab\"/></a>"
      ]
    },
    {
      "cell_type": "code",
      "execution_count": 12,
      "metadata": {
        "colab": {
          "base_uri": "https://localhost:8080/"
        },
        "id": "6V3w26GWmMGQ",
        "outputId": "42c89978-622e-44ad-a93e-f818a4347af9"
      },
      "outputs": [
        {
          "output_type": "stream",
          "name": "stdout",
          "text": [
            "enter the number: 3\n",
            "enter the power: 3\n",
            "27\n"
          ]
        }
      ],
      "source": [
        "## python program to find power of number withoutr recursion:\n",
        "\n",
        "x =int(input(\"enter the number: \"))\n",
        "a=int(input(\"enter the power: \"))\n",
        "b=pow(x,a)\n",
        "print(b)"
      ]
    },
    {
      "cell_type": "code",
      "source": [
        "##program to sort tuple by total digits (input: list=[(3,4,6,723),(1,2),(134,234,34)]) output:[(1,2)(3,4,6,723)(34,134,234)]\n",
        "\n",
        "a=eval(input(\"enter list of tuples: \"))\n",
        "print(sorted(a))\n"
      ],
      "metadata": {
        "colab": {
          "base_uri": "https://localhost:8080/"
        },
        "id": "ShLekY3yq6oL",
        "outputId": "4f46ecce-3ad8-4fe0-905b-02c1ba52ef6f"
      },
      "execution_count": 2,
      "outputs": [
        {
          "output_type": "stream",
          "name": "stdout",
          "text": [
            "enter list of tuples: (3,4,6,723),(1,2),(134,234,34)\n",
            "[(1, 2), (3, 4, 6, 723), (134, 234, 34)]\n"
          ]
        }
      ]
    },
    {
      "cell_type": "code",
      "source": [
        "##take five subjects from the user and display the grade of the student,if average is 90-100(o),80-89(a+),70-79(a)...\n",
        "\n",
        "a=int(input(\"enter marks of math\"))\n",
        "b=int(input(\"enter marks of engh\"))\n",
        "c=int(input(\"enter marks of soci\"))\n",
        "d=int(input(\"enter marks of phys\"))\n",
        "e=int(input(\"enter marks of chem\"))\n",
        "avg=a+b+c+d+e/5\n",
        "if(avg>90):\n",
        "    print(\"grade A\")\n",
        "elif(avg>=80&avg<90):\n",
        "     print(\"grade B\")\n",
        "elif(avg>=70&avg<80):\n",
        "    print(\"grade C\")\n",
        "elif(avg>=60&avg<70):\n",
        "    print(\"grade D\")\n",
        "else:\n",
        "    print(\"grade F \")"
      ],
      "metadata": {
        "colab": {
          "base_uri": "https://localhost:8080/"
        },
        "id": "t7IeCbP6rbMt",
        "outputId": "8d670414-cbb6-4dfd-86ac-f842766622c1"
      },
      "execution_count": 4,
      "outputs": [
        {
          "output_type": "stream",
          "name": "stdout",
          "text": [
            "enter marks of math100\n",
            "enter marks of engh99\n",
            "enter marks of soci90\n",
            "enter marks of phys92\n",
            "enter marks of chem90\n",
            "grade A\n"
          ]
        }
      ]
    },
    {
      "cell_type": "code",
      "source": [
        "##program that prints 1 if all three given numbers are ascending order\n",
        "\n",
        "x = int(input(\"Input first number: \"))\n",
        "y = int(input(\"Input second number: \"))\n",
        "z = int(input(\"Input third number: \"))\n",
        "a1 = min(x, y, z)\n",
        "a3 = max(x, y, z)\n",
        "a2 = (x + y + z) - a1 - a3\n",
        "print(\"Numbers in sorted order: \", a1, a2, a3)\n"
      ],
      "metadata": {
        "colab": {
          "base_uri": "https://localhost:8080/"
        },
        "id": "0I6OzIbTsJHL",
        "outputId": "b60b4bed-4896-4f71-e026-a3a30f04c291"
      },
      "execution_count": 5,
      "outputs": [
        {
          "output_type": "stream",
          "name": "stdout",
          "text": [
            "Input first number: 40\n",
            "Input second number: 2\n",
            "Input third number: 99\n",
            "Numbers in sorted order:  2 40 99\n"
          ]
        }
      ]
    },
    {
      "cell_type": "code",
      "source": [
        "##check a given number is perfect number are not\n",
        "\n",
        "n = int(input(\"Enter any number: \"))\n",
        "sum1 = 0\n",
        "for i in range(1, n):\n",
        "    if(n % i == 0):\n",
        "      sum1 = sum1 + i\n",
        "if (sum1 == n):\n",
        "    print(\"The number is a Perfect number!\")\n",
        "else:\n",
        "    print(\"The number is not a Perfect number!\")"
      ],
      "metadata": {
        "colab": {
          "base_uri": "https://localhost:8080/"
        },
        "id": "XF5iGfSWs6E5",
        "outputId": "e729b0b0-1dd4-4dc6-cf7f-bf5aa8ee86be"
      },
      "execution_count": 10,
      "outputs": [
        {
          "output_type": "stream",
          "name": "stdout",
          "text": [
            "Enter any number: 6\n",
            "The number is a Perfect number!\n"
          ]
        }
      ]
    },
    {
      "cell_type": "code",
      "source": [
        "##check a given string is a palindrome or not\n",
        "\n",
        "num=int(input(\"Enter a number:\"))\n",
        "temp=num\n",
        "rev=0\n",
        "while(num>0):\n",
        "    dig=num%10\n",
        "    rev=rev*10+dig\n",
        "    num=num//10\n",
        "if(temp==rev):\n",
        "     print(\"The number is palindrome!\")\n",
        "else:\n",
        "    print(\"Not a palindrome!\")"
      ],
      "metadata": {
        "colab": {
          "base_uri": "https://localhost:8080/"
        },
        "id": "VYA8qeOrwXTp",
        "outputId": "fa866281-4057-435a-f33c-9c0f7d1377d2"
      },
      "execution_count": 11,
      "outputs": [
        {
          "output_type": "stream",
          "name": "stdout",
          "text": [
            "Enter a number:7665667\n",
            "The number is palindrome!\n"
          ]
        }
      ]
    },
    {
      "cell_type": "code",
      "source": [
        "n=int(input(\"Enter n value:\"))\n",
        "sum=0\n",
        "for i in range(2,n+1,2):\n",
        "    sum+=i\n",
        "print(sum)"
      ],
      "metadata": {
        "colab": {
          "base_uri": "https://localhost:8080/"
        },
        "id": "jLOsRZJG2K-f",
        "outputId": "19ad1588-cb8a-4c6b-f1dc-47f03e7f6559"
      },
      "execution_count": 20,
      "outputs": [
        {
          "output_type": "stream",
          "name": "stdout",
          "text": [
            "Enter n value:324\n",
            "26406\n"
          ]
        }
      ]
    }
  ]
}