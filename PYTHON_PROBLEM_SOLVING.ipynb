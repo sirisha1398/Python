{
  "nbformat": 4,
  "nbformat_minor": 0,
  "metadata": {
    "colab": {
      "name": "PYTHON PROBLEM SOLVING",
      "provenance": [],
      "collapsed_sections": [],
      "authorship_tag": "ABX9TyNWibKExRNpbsOY9ER+/h+L",
      "include_colab_link": true
    },
    "kernelspec": {
      "name": "python3",
      "display_name": "Python 3"
    },
    "language_info": {
      "name": "python"
    }
  },
  "cells": [
    {
      "cell_type": "markdown",
      "metadata": {
        "id": "view-in-github",
        "colab_type": "text"
      },
      "source": [
        "<a href=\"https://colab.research.google.com/github/sirisha1398/Python/blob/main/PYTHON_PROBLEM_SOLVING.ipynb\" target=\"_parent\"><img src=\"https://colab.research.google.com/assets/colab-badge.svg\" alt=\"Open In Colab\"/></a>"
      ]
    },
    {
      "cell_type": "code",
      "execution_count": 6,
      "metadata": {
        "colab": {
          "base_uri": "https://localhost:8080/"
        },
        "id": "h9wZ7hWANCIM",
        "outputId": "41d3cfcd-057d-4367-d47f-5be346ee3808"
      },
      "outputs": [
        {
          "output_type": "stream",
          "name": "stdout",
          "text": [
            "Input lengths of the triangle sides: \n",
            "x: 3\n",
            "y: 4\n",
            "z: 3\n",
            "isosceles triangle\n"
          ]
        }
      ],
      "source": [
        "#Equilateral, isoceles or scalen triangle:\n",
        "\n",
        "print(\"Input lengths of the triangle sides: \")\n",
        "x = int(input(\"x: \"))\n",
        "y = int(input(\"y: \"))\n",
        "z = int(input(\"z: \"))\n",
        "\n",
        "if x == y == z:\n",
        "\tprint(\"Equilateral triangle\")\n",
        "elif x==y or y==z or z==x:\n",
        "\tprint(\"isosceles triangle\")\n",
        "else:\n",
        "\tprint(\"Scalene triangle\")"
      ]
    },
    {
      "cell_type": "code",
      "source": [
        "#LEAP YEAR OR NOT:\n",
        "\n",
        "year = int(input(\"Enter the year: \"))\n",
        "if (year % 4) == 0:\n",
        "  if (year % 100) == 0:\n",
        "    if (year % 400) == 0:\n",
        "      print(year,\"is a leap year\")\n",
        "    else:\n",
        "      print(year,\"is not a leap year\")\n",
        "  else:\n",
        "    print(year,\"is a leap year\")\n",
        "else:\n",
        "  print(year,\"is not a leap year\")"
      ],
      "metadata": {
        "id": "TquNY1DRPKUa"
      },
      "execution_count": null,
      "outputs": []
    },
    {
      "cell_type": "code",
      "source": [
        "#MINIMUM AMONG THREE NUMBERS:\n",
        "\n",
        "a = int(input('Enter first number  : '))\n",
        "b = int(input('Enter second number : '))\n",
        "c = int(input('Enter third number  : '))\n",
        "\n",
        "smallest = 0\n",
        "\n",
        "if a < b and a < c :\n",
        "    smallest = a\n",
        "if b < a and b < c :\n",
        "    smallest = b\n",
        "if c < a and c < b :\n",
        "    smallest = c\n",
        "\n",
        "print(smallest, \"is the smallest of three numbers.\")"
      ],
      "metadata": {
        "id": "cD2PMVi2RB7y"
      },
      "execution_count": null,
      "outputs": []
    }
  ]
}