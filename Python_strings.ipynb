{
  "nbformat": 4,
  "nbformat_minor": 0,
  "metadata": {
    "colab": {
      "name": "Python strings",
      "provenance": [],
      "collapsed_sections": [],
      "authorship_tag": "ABX9TyP8/bJKXAWbDAThF39iJXJI",
      "include_colab_link": true
    },
    "kernelspec": {
      "name": "python3",
      "display_name": "Python 3"
    },
    "language_info": {
      "name": "python"
    }
  },
  "cells": [
    {
      "cell_type": "markdown",
      "metadata": {
        "id": "view-in-github",
        "colab_type": "text"
      },
      "source": [
        "<a href=\"https://colab.research.google.com/github/sirisha1398/Python/blob/main/Python_strings.ipynb\" target=\"_parent\"><img src=\"https://colab.research.google.com/assets/colab-badge.svg\" alt=\"Open In Colab\"/></a>"
      ]
    },
    {
      "cell_type": "code",
      "execution_count": 3,
      "metadata": {
        "colab": {
          "base_uri": "https://localhost:8080/"
        },
        "id": "4OOKZ_uMYsln",
        "outputId": "99b40600-2e8d-48ed-d8aa-f1dc24dcca96"
      },
      "outputs": [
        {
          "output_type": "stream",
          "name": "stdout",
          "text": [
            "  RRR MOVIE HAS BEEN RELEASED\n"
          ]
        }
      ],
      "source": [
        "a = \"RRR movie has been released\"\n",
        "print(a.upper())\n",
        "b = \"RRR MOVIE HAS BEEN RELEASED\"\n",
        "print(b.lower())"
      ]
    },
    {
      "cell_type": "code",
      "source": [
        "##STRIPS\n",
        "\n",
        "a = \"  rrr movie has been released\"\n",
        "print(a.upper())\n",
        "b = \"  RRR MOVIE HAS BEEN RELEASED\"\n",
        "print(b.lower())"
      ],
      "metadata": {
        "colab": {
          "base_uri": "https://localhost:8080/"
        },
        "id": "9a7SCTLMZJ1L",
        "outputId": "63127cdd-b0a6-44e8-c061-790922438327"
      },
      "execution_count": 5,
      "outputs": [
        {
          "output_type": "stream",
          "name": "stdout",
          "text": [
            "  RRR MOVIE HAS BEEN RELEASED\n",
            "  rrr movie has been released\n"
          ]
        }
      ]
    },
    {
      "cell_type": "code",
      "source": [
        "##REPLACE\n",
        "\n",
        "a = \"RRR movie has been released\"\n",
        "print(a.replace(\"RRR\", \"DJ TILLU\"))\n",
        "print(a.replace(\"e\",\"f\"))"
      ],
      "metadata": {
        "colab": {
          "base_uri": "https://localhost:8080/"
        },
        "id": "Ux4j9Do1aVCk",
        "outputId": "1fbf5def-2520-4288-d8fd-71782ede0e93"
      },
      "execution_count": 11,
      "outputs": [
        {
          "output_type": "stream",
          "name": "stdout",
          "text": [
            "DJ TILLU movie has been released\n",
            "RRR movif has bffn rflfasfd\n"
          ]
        }
      ]
    },
    {
      "cell_type": "code",
      "source": [
        "##SPLITING\n",
        "\n",
        "a = \"RRR MOVIE HAS BEEN RELEASED\"\n",
        "print(a.split())\n",
        "b = \"RRR MOVIE HAS BEEN RELEASED\"\n",
        "print(b.split(','))"
      ],
      "metadata": {
        "colab": {
          "base_uri": "https://localhost:8080/"
        },
        "id": "i8jYJWOTbyGl",
        "outputId": "87a22cad-8978-4129-8cdb-1a4996b3f931"
      },
      "execution_count": 16,
      "outputs": [
        {
          "output_type": "stream",
          "name": "stdout",
          "text": [
            "['RRR', 'MOVIE', 'HAS', 'BEEN', 'RELEASED']\n",
            "['RRR MOVIE HAS BEEN RELEASED']\n"
          ]
        }
      ]
    },
    {
      "cell_type": "code",
      "source": [
        "##concatination\n",
        "\n",
        "a = \"RRR movie has been released\"\n",
        "b = \" i watched the movie with my friends\"\n",
        "print(a+''+b)\n",
        "#print(\"%a %b\" %(a,b))\n",
        "a = 123\n",
        "b = \"hello {}\"\n",
        "print(b.format(a,b))"
      ],
      "metadata": {
        "colab": {
          "base_uri": "https://localhost:8080/"
        },
        "id": "k64pxH7Uc--I",
        "outputId": "dcfb6757-f65b-4063-9de0-c5202acfdc1a"
      },
      "execution_count": 25,
      "outputs": [
        {
          "output_type": "stream",
          "name": "stdout",
          "text": [
            "RRR movie has been released i watched the movie with my friends\n",
            "hello 123\n"
          ]
        }
      ]
    },
    {
      "cell_type": "code",
      "source": [
        "price = 300\n",
        "quantity = 3\n",
        "item = 1\n",
        "name = \" cococola\"\n",
        "myorder = \"i bought{3} with {0} having {1} and purchased {2}\"\n",
        "print(myorder.format(price,quantity,item,name))"
      ],
      "metadata": {
        "colab": {
          "base_uri": "https://localhost:8080/"
        },
        "id": "H4WNPiDthHvq",
        "outputId": "6feb1020-3a04-4a20-de35-ea1e8a4b0d72"
      },
      "execution_count": 33,
      "outputs": [
        {
          "output_type": "stream",
          "name": "stdout",
          "text": [
            "i bought cococola with 300 having 3 and purchased 1\n"
          ]
        }
      ]
    },
    {
      "cell_type": "code",
      "source": [
        "s1 = int(input(\"enter maths marks\"))\n",
        "s2 = int(input(\"enter c marks\"))\n",
        "s3 = int(input(\"enter science marks\"))\n",
        "s4 = int(input(\"enter social marks\"))\n",
        "marks = \" my maths marks are{0} c marks are{1} science marks are{2} social marks are{3}\"\n",
        "print(marks.format(s1,s2,s3,s4))"
      ],
      "metadata": {
        "id": "ERNfvI6ojjbM"
      },
      "execution_count": 49,
      "outputs": []
    },
    {
      "cell_type": "code",
      "source": [
        "##CHARACTERS\n",
        "\n",
        "a = \"hello siri \\\"hi\\\"\"\n",
        "print(a)\n",
        "b = \"hey varun \\\\hello\"\n",
        "print(b)\n",
        "c = \"hello \\nvarun\"\n",
        "print(c)\n",
        "d = \"hello \\tvarun\"\n",
        "print(d)"
      ],
      "metadata": {
        "colab": {
          "base_uri": "https://localhost:8080/"
        },
        "id": "UZN-qQP5lw5S",
        "outputId": "8fa3fea7-c28a-4b88-9c56-a2cec2806361"
      },
      "execution_count": 41,
      "outputs": [
        {
          "output_type": "stream",
          "name": "stdout",
          "text": [
            "hello siri \"hi\"\n",
            "hey varun \\hello\n",
            "hello \n",
            "varun\n",
            "hello \tvarun\n"
          ]
        }
      ]
    },
    {
      "cell_type": "code",
      "source": [
        "c = \"hello\\bvarun\"\n",
        "print(c)"
      ],
      "metadata": {
        "colab": {
          "base_uri": "https://localhost:8080/"
        },
        "id": "fhmq9QE_nbin",
        "outputId": "17dc64d9-20ed-493c-f00b-dc0d6ce31791"
      },
      "execution_count": 42,
      "outputs": [
        {
          "output_type": "stream",
          "name": "stdout",
          "text": [
            "hello\bvarun\n"
          ]
        }
      ]
    },
    {
      "cell_type": "code",
      "source": [
        "##OCTAL\n",
        "\n",
        "a = \"\\110\\145\\154\\154\\157\"\n",
        "print(a)"
      ],
      "metadata": {
        "colab": {
          "base_uri": "https://localhost:8080/"
        },
        "id": "DezYz-jQo0n-",
        "outputId": "247c99ba-5b57-4564-bf97-e36feb9c48b4"
      },
      "execution_count": 44,
      "outputs": [
        {
          "output_type": "stream",
          "name": "stdout",
          "text": [
            "Hello\n"
          ]
        }
      ]
    },
    {
      "cell_type": "code",
      "source": [
        "##ASCII CODE\n",
        "\n",
        "a = \"\\115\\105\\114\\105\"\n",
        "print(a)"
      ],
      "metadata": {
        "colab": {
          "base_uri": "https://localhost:8080/"
        },
        "id": "VSuKRxPCpy2t",
        "outputId": "819e225d-84ee-40f8-d6cc-daf9b9f67312"
      },
      "execution_count": 45,
      "outputs": [
        {
          "output_type": "stream",
          "name": "stdout",
          "text": [
            "MELE\n"
          ]
        }
      ]
    },
    {
      "cell_type": "code",
      "source": [
        "##STRING METHODS\n",
        "\n",
        "a = \"siri\"\n",
        "b = a.capitalize()\n",
        "print(b)"
      ],
      "metadata": {
        "colab": {
          "base_uri": "https://localhost:8080/"
        },
        "id": "SFQuhm3aqZHc",
        "outputId": "879cfd91-6e4d-4c53-ea7c-797818914fdd"
      },
      "execution_count": 48,
      "outputs": [
        {
          "output_type": "stream",
          "name": "stdout",
          "text": [
            "Siri\n"
          ]
        }
      ]
    },
    {
      "cell_type": "code",
      "source": [
        "a = \"Siri\"\n",
        "b = a.casefold()\n",
        "print(b)"
      ],
      "metadata": {
        "colab": {
          "base_uri": "https://localhost:8080/"
        },
        "id": "kB0ph7d7rFYL",
        "outputId": "0cee6807-3c19-4bf8-cba2-81119616c8ea"
      },
      "execution_count": 49,
      "outputs": [
        {
          "output_type": "stream",
          "name": "stdout",
          "text": [
            "siri\n"
          ]
        }
      ]
    },
    {
      "cell_type": "code",
      "source": [
        "a = \"siri\"\n",
        "b = a.center(30)\n",
        "print(b)"
      ],
      "metadata": {
        "colab": {
          "base_uri": "https://localhost:8080/"
        },
        "id": "0ImsqtQ1riag",
        "outputId": "faca1d59-5a15-45ba-c6c8-92fea1747f0d"
      },
      "execution_count": 50,
      "outputs": [
        {
          "output_type": "stream",
          "name": "stdout",
          "text": [
            "             siri             \n"
          ]
        }
      ]
    },
    {
      "cell_type": "code",
      "source": [
        "##COUNT\n",
        "\n",
        "a = \"hello world welcome to my world\"\n",
        "b = a.count(\"\")\n",
        "print(b)"
      ],
      "metadata": {
        "colab": {
          "base_uri": "https://localhost:8080/"
        },
        "id": "SWj_NCJ0rr5p",
        "outputId": "2fd105ea-963a-463c-df8e-ca98fdc591ba"
      },
      "execution_count": 52,
      "outputs": [
        {
          "output_type": "stream",
          "name": "stdout",
          "text": [
            "32\n"
          ]
        }
      ]
    }
  ]
}