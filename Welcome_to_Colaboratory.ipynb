{
  "cells": [
    {
      "cell_type": "markdown",
      "metadata": {
        "id": "view-in-github",
        "colab_type": "text"
      },
      "source": [
        "<a href=\"https://colab.research.google.com/github/sirisha1398/Python/blob/main/Welcome_to_Colaboratory.ipynb\" target=\"_parent\"><img src=\"https://colab.research.google.com/assets/colab-badge.svg\" alt=\"Open In Colab\"/></a>"
      ]
    },
    {
      "cell_type": "code",
      "source": [
        "##Accept input from user and store it in variable and print the value\n",
        "\n",
        "a = str(input(\"Enter name: \"))\n",
        "b = int(input(\"Enter age: \"))\n",
        "print (a)\n",
        "print (b)"
      ],
      "metadata": {
        "id": "6FoAe7tVFFD1",
        "outputId": "32bc80a7-cfc8-4b8f-ec19-b251af4de1b7",
        "colab": {
          "base_uri": "https://localhost:8080/"
        }
      },
      "execution_count": 2,
      "outputs": [
        {
          "output_type": "stream",
          "name": "stdout",
          "text": [
            "Enter name: SIRI\n",
            "Enter age: 19\n",
            "SIRI\n",
            "19\n"
          ]
        }
      ]
    },
    {
      "cell_type": "code",
      "source": [
        "##Use of print statements and use of (.format )for printing different data types.\n",
        "\n",
        "a = \"SIRI\"\n",
        "b = \"VU21CSEN0101398\"\n",
        "c = \"cse\"\n",
        "d = \"name {} roll {} branch {}\"\n",
        "print(d.format(a,b,c))"
      ],
      "metadata": {
        "id": "_KBJe6kIFtk0",
        "outputId": "0004944a-228d-4eb9-8d13-fada99d4f378",
        "colab": {
          "base_uri": "https://localhost:8080/"
        }
      },
      "execution_count": 3,
      "outputs": [
        {
          "output_type": "stream",
          "name": "stdout",
          "text": [
            "name SIRI roll VU21CSEN0101398 branch cse\n"
          ]
        }
      ]
    },
    {
      "cell_type": "code",
      "source": [
        "##Take 2 numbers as user input and add, multiply, divide, subtract, remainder and print\n",
        "\n",
        "a=int(input(\"Enter a: \"))\n",
        "b=int(input(\"Enter b: \"))\n",
        "add = a + b\n",
        "sub = a - b\n",
        "mul = a * b\n",
        "div = a / b\n",
        "rem = a % b\n",
        "print (add)\n",
        "print (sub)\n",
        "print (mul)\n",
        "print (div)\n",
        "print (rem)"
      ],
      "metadata": {
        "id": "9NI202uXGG_M",
        "outputId": "601d76c6-d3b0-4a00-c92d-8c93ff4d8fd3",
        "colab": {
          "base_uri": "https://localhost:8080/"
        }
      },
      "execution_count": 5,
      "outputs": [
        {
          "output_type": "stream",
          "name": "stdout",
          "text": [
            "Enter a: 4\n",
            "Enter b: 5\n",
            "9\n",
            "-1\n",
            "20\n",
            "0.8\n",
            "4\n"
          ]
        }
      ]
    },
    {
      "cell_type": "code",
      "source": [
        "##Conversion of one unit to another (such as hours to minutes, miles to km and etc)\n",
        "\n",
        "hours = int(input(\"Enter hour: \"))\n",
        "minutes = 60 * hours\n",
        "print (minutes)"
      ],
      "metadata": {
        "id": "VIkdTjq9Go4D",
        "outputId": "f4c33796-1d16-4e5b-b8fe-d16c6ffb7f1d",
        "colab": {
          "base_uri": "https://localhost:8080/"
        }
      },
      "execution_count": 6,
      "outputs": [
        {
          "output_type": "stream",
          "name": "stdout",
          "text": [
            "Enter hour: 2\n",
            "120\n"
          ]
        }
      ]
    },
    {
      "cell_type": "code",
      "source": [
        "##Usage of mathematical functions in python like math.ceil, floor, fabs, fmod, trunc,\n",
        "\n",
        "import math \n",
        "\n",
        "my_int = 4.5467\n",
        "print (math.ceil(my_int))"
      ],
      "metadata": {
        "id": "IrOX25nKG_0D",
        "outputId": "53e12e8d-7392-439d-de84-7b148b997d91",
        "colab": {
          "base_uri": "https://localhost:8080/"
        }
      },
      "execution_count": 7,
      "outputs": [
        {
          "output_type": "stream",
          "name": "stdout",
          "text": [
            "5\n"
          ]
        }
      ]
    },
    {
      "cell_type": "code",
      "source": [
        "import math \n",
        "\n",
        "my_int = 4.5467\n",
        "print (math.floor(my_int))"
      ],
      "metadata": {
        "id": "x3xSPvkeHHUT",
        "outputId": "9562bd39-da58-4af3-c9f2-c7b308f03b66",
        "colab": {
          "base_uri": "https://localhost:8080/"
        }
      },
      "execution_count": 8,
      "outputs": [
        {
          "output_type": "stream",
          "name": "stdout",
          "text": [
            "4\n"
          ]
        }
      ]
    },
    {
      "cell_type": "code",
      "source": [
        "##Building a mathematical calculator that can perform operations according to user input.\n",
        "\n",
        "print (\"Enter 1 for addition\")\n",
        "print (\"Enter 2 for subtraction\")\n",
        "print (\"Enter 3 for multiplication\")\n",
        "print (\"Enter 4 for division\")\n",
        "op = int(input(\"Enter number corresponding to operation:\"))\n",
        "a=int(input(\"Enter a: \"))\n",
        "b=int(input(\"Enter b: \"))\n",
        "if op == 1:\n",
        "  print(a + b)\n",
        "elif op == 2:\n",
        "  print(a - b)\n",
        "elif op == 3:\n",
        "  print(a * b)\n",
        "elif op == 4:\n",
        "  print(a / b)\n",
        "else:\n",
        "  print(\"Error\")"
      ],
      "metadata": {
        "id": "6vCJPjQrHOGZ",
        "outputId": "bd6d0744-f41a-4f3d-cb27-c9fba337f1dd",
        "colab": {
          "base_uri": "https://localhost:8080/"
        }
      },
      "execution_count": 10,
      "outputs": [
        {
          "output_type": "stream",
          "name": "stdout",
          "text": [
            "Enter 1 for addition\n",
            "Enter 2 for subtraction\n",
            "Enter 3 for multiplication\n",
            "Enter 4 for division\n",
            "Enter number corresponding to operation:3\n",
            "Enter a: 4\n",
            "Enter b: 5\n",
            "20\n"
          ]
        }
      ]
    },
    {
      "cell_type": "code",
      "source": [
        "##Accepting 5 different subject marks from user and displaying the grade of the student.\n",
        "\n",
        "sub1 = int(input(\"Enter marks in sub1: \"))\n",
        "sub2 = int(input(\"Enter marks in sub2: \"))\n",
        "sub3 = int(input(\"Enter marks in sub3: \"))\n",
        "sub4 = int(input(\"Enter marks in sub4: \"))\n",
        "sub5 = int(input(\"Enter marks in sub5: \"))\n",
        "#sub1\n",
        "if sub1 >= 90:\n",
        "  print(\"A in sub1\")\n",
        "elif (90 > sub1 >= 80):\n",
        "  print(\"B in sub1\")\n",
        "elif (80 > sub1 >= 70):\n",
        "  print(\"C in sub1\")\n",
        "elif (70 > sub1 >= 60):\n",
        "  print(\"D in sub1\")\n",
        "elif (60 > sub1 >= 50):\n",
        "  print(\"E in sub1\")\n",
        "else:\n",
        "  print(\"f\")\n",
        "#sub2\n",
        "if sub2 >= 90:\n",
        "  print(\"A in sub2\")\n",
        "elif (90 > sub2 >= 80):\n",
        "  print(\"B in sub2\")\n",
        "elif (80 > sub2 >= 70):\n",
        "  print(\"C in sub2\")\n",
        "elif (70 > sub2 >= 60):\n",
        "  print(\"D in sub2\")\n",
        "elif (60 > sub2 >= 50):\n",
        "  print(\"E in sub2\")\n",
        "else:\n",
        "  print(\"f\")\n",
        "#sub3\n",
        "if sub3 >= 90:\n",
        "  print(\"A in sub3\")\n",
        "elif (90 > sub3 >= 80):\n",
        "  print(\"B in sub3\")\n",
        "elif (80 > sub3 >= 70):\n",
        "  print(\"C in sub3\")\n",
        "elif (70 > sub3 >= 60):\n",
        "  print(\"D in sub3\")\n",
        "elif (60 > sub3 >= 50):\n",
        "  print(\"E in sub3\")\n",
        "else:\n",
        "  print(\"f\")\n",
        "#sub4\n",
        "if sub4 >= 90:\n",
        "  print(\"A in sub4\")\n",
        "elif (90 > sub4 >= 80):\n",
        "  print(\"B in sub4\")\n",
        "elif (80 > sub4 >= 70):\n",
        "  print(\"C in sub4\")\n",
        "elif (70 > sub4 >= 60):\n",
        "  print(\"D in sub4\")\n",
        "elif (60 > sub4 >= 50):\n",
        "  print(\"E in sub4\")\n",
        "else:\n",
        "  print(\"f\")\n",
        "#sub5\n",
        "if sub5 >= 90:\n",
        "  print(\"A in sub5\")\n",
        "elif (90 > sub5 >= 80):\n",
        "  print(\"B in sub5\")\n",
        "elif (80 > sub5 >= 70):\n",
        "  print(\"C in sub5\")\n",
        "elif (70 > sub5 >= 60):\n",
        "  print(\"D in sub5\")\n",
        "elif (60 > sub5 >= 50):\n",
        "  print(\"E in sub5\")\n",
        "else:\n",
        "  print(\"f\")"
      ],
      "metadata": {
        "id": "r5eAYEORHgEC",
        "outputId": "174998ec-b90f-4838-90dd-1ab7f34b72b0",
        "colab": {
          "base_uri": "https://localhost:8080/"
        }
      },
      "execution_count": 13,
      "outputs": [
        {
          "output_type": "stream",
          "name": "stdout",
          "text": [
            "Enter marks in sub1: 100\n",
            "Enter marks in sub2: 100\n",
            "Enter marks in sub3: 100\n",
            "Enter marks in sub4: 100\n",
            "Enter marks in sub5: 100\n",
            "A in sub1\n",
            "A in sub2\n",
            "A in sub3\n",
            "A in sub4\n",
            "A in sub5\n"
          ]
        }
      ]
    },
    {
      "cell_type": "code",
      "source": [
        "##Printing all even numbers, odd numbers, count of even numbers, count of odd numbers within a given range.\n",
        "\n",
        "range = int(input(\"Enter range of numbers: \"))\n",
        "a = 1\n",
        "even = []\n",
        "odd = []\n",
        "while a <= range:\n",
        "  if a % 2 == 0:\n",
        "    even.append (a)\n",
        "    a = a + 1\n",
        "  else:\n",
        "    odd.append (a)\n",
        "    a = a + 1\n",
        "print (\"Even numbers are \",even)\n",
        "print (\"Odd numbers are \",odd)\n",
        "print (\"Number of even number within the given range are \",len(even))\n",
        "print (\"Number of odd number within the given range are \",len(odd))"
      ],
      "metadata": {
        "id": "E75FA8v5IJjD",
        "outputId": "7665f739-85fd-4d29-a216-1bbb244d72d8",
        "colab": {
          "base_uri": "https://localhost:8080/"
        }
      },
      "execution_count": 14,
      "outputs": [
        {
          "output_type": "stream",
          "name": "stdout",
          "text": [
            "Enter range of numbers: 3\n",
            "Even numbers are  [2]\n",
            "Odd numbers are  [1, 3]\n",
            "Number of even number within the given range are  1\n",
            "Number of odd number within the given range are  2\n"
          ]
        }
      ]
    },
    {
      "cell_type": "code",
      "source": [
        "# Factorial\n",
        "num = int(input(\"Enter num \"))\n",
        "factorial = 1\n",
        "for i in range(1,num + 1):\n",
        "  factorial = factorial*i    \n",
        "print(\"The factorial of\",num,\"is\",factorial)"
      ],
      "metadata": {
        "id": "Iw065bzPTSuP",
        "outputId": "9d492e5f-01ac-41fd-c8c6-8815bc3e176c",
        "colab": {
          "base_uri": "https://localhost:8080/"
        }
      },
      "execution_count": 4,
      "outputs": [
        {
          "output_type": "stream",
          "name": "stdout",
          "text": [
            "Enter num 5\n",
            "The factorial of 5 is 120\n"
          ]
        }
      ]
    },
    {
      "cell_type": "code",
      "source": [
        "# GCD\n",
        "num1 = int(input(\"Enter first number: \"))\n",
        "num2 = int(input(\"Enter second number: \"))\n",
        "a = 1\n",
        "b = 1\n",
        "fact1 = []\n",
        "fact2 = []\n",
        "\n",
        "trash1 = []\n",
        "trash2 = []\n",
        "\n",
        "common = []\n",
        "result = []\n",
        "#NUM1\n",
        "while a <= num1:\n",
        "  if num1 % a == 0:\n",
        "    fact1.append(a)\n",
        "    a = a + 1\n",
        "  else:\n",
        "    trash1.append(a)\n",
        "    a = a + 1\n",
        "#NUM2\n",
        "while b <= num2:\n",
        "  if num2 % b == 0:\n",
        "    fact2.append(b)\n",
        "    b = b + 1\n",
        "  else:\n",
        "    trash2.append(a)\n",
        "    b = b + 1\n",
        "common = (set(fact1).intersection(fact2))\n",
        "result = list(common)\n",
        "print (\"The HCF of\",num1,\"and\",num2,\"is\",result [-1])"
      ],
      "metadata": {
        "id": "C4BOf7eMJFKP",
        "outputId": "fee6a118-7ac2-4578-83f2-2b628524cb3a",
        "colab": {
          "base_uri": "https://localhost:8080/"
        }
      },
      "execution_count": 20,
      "outputs": [
        {
          "output_type": "stream",
          "name": "stdout",
          "text": [
            "Enter first number: 30\n",
            "Enter second number: 60\n",
            "The HCF of 30 and 60 is 30\n"
          ]
        }
      ]
    },
    {
      "cell_type": "code",
      "source": [
        "# Fibonacci\n",
        "nterms = int(input(\"How many terms? \"))\n",
        "n1, n2 = 0, 1\n",
        "count = 0\n",
        "if nterms <= 0:\n",
        "   print(\"Please enter a positive integer\")\n",
        "elif nterms == 1:\n",
        "   print(\"Fibonacci sequence upto\",nterms,\":\")\n",
        "   print(n1)\n",
        "else:\n",
        "   print(\"Fibonacci sequence:\")\n",
        "   while count < nterms:\n",
        "       print(n1)\n",
        "       nth = n1 + n2\n",
        "       \n",
        "       n1 = n2\n",
        "       n2 = nth\n",
        "       count += 1"
      ],
      "metadata": {
        "id": "2Tkg7E_gJdYX",
        "outputId": "08525ee9-2f4e-4823-cd01-a366f8a613f2",
        "colab": {
          "base_uri": "https://localhost:8080/"
        }
      },
      "execution_count": 22,
      "outputs": [
        {
          "output_type": "stream",
          "name": "stdout",
          "text": [
            "How many terms? 9\n",
            "Fibonacci sequence:\n",
            "0\n",
            "1\n",
            "1\n",
            "2\n",
            "3\n",
            "5\n",
            "8\n",
            "13\n",
            "21\n"
          ]
        }
      ]
    },
    {
      "cell_type": "code",
      "source": [
        "##Check whether the given input is a) palindrome b) armstrong c) perfect\n",
        "\n",
        "# A)\n",
        "num=int(input(\"Enter a number:\"))\n",
        "temp=num\n",
        "rev=0\n",
        "while(num>0):\n",
        "    dig=num%10\n",
        "    rev=rev*10+dig\n",
        "    num=num//10\n",
        "if(temp==rev):\n",
        "     print(\"The number is palindrome!\")\n",
        "else:\n",
        "    print(\"Not a palindrome!\")\n"
      ],
      "metadata": {
        "id": "4Lz9ZvkCJmR9",
        "outputId": "56d100eb-be35-4485-e7aa-758662d2c346",
        "colab": {
          "base_uri": "https://localhost:8080/"
        }
      },
      "execution_count": 23,
      "outputs": [
        {
          "output_type": "stream",
          "name": "stdout",
          "text": [
            "Enter a number:33\n",
            "The number is palindrome!\n"
          ]
        }
      ]
    },
    {
      "cell_type": "code",
      "source": [
        "# B)\n",
        "num = int(input(\"Enter a number: \"))\n",
        "sum = 0\n",
        "temp = num\n",
        "while temp > 0:\n",
        "   digit = temp % 10\n",
        "   sum += digit ** 3\n",
        "   temp //= 10\n",
        "if num == sum:\n",
        "   print(num,\"is an Armstrong number\")\n",
        "else:\n",
        "   print(num,\"is not an Armstrong number\")"
      ],
      "metadata": {
        "id": "hlk9lKcmJx1a",
        "outputId": "74705fc6-ac9c-4b85-cf62-d6c84d6a7e28",
        "colab": {
          "base_uri": "https://localhost:8080/"
        }
      },
      "execution_count": 24,
      "outputs": [
        {
          "output_type": "stream",
          "name": "stdout",
          "text": [
            "Enter a number: 196\n",
            "196 is not an Armstrong number\n"
          ]
        }
      ]
    },
    {
      "cell_type": "code",
      "source": [
        "# C)\n",
        "n = int(input(\"Enter any number: \"))\n",
        "sum1 = 0\n",
        "for i in range(1, n):\n",
        "    if(n % i == 0):\n",
        "        sum1 = sum1 + i\n",
        "if (sum1 == n):\n",
        "    print(\"The number is a Perfect number!\")\n",
        "else:\n",
        "    print(\"The number is not a Perfect number!\")"
      ],
      "metadata": {
        "id": "UssIPKwPL0my",
        "outputId": "d56bff68-8768-4cd4-81ec-7f300ebcdbe1",
        "colab": {
          "base_uri": "https://localhost:8080/"
        }
      },
      "execution_count": 3,
      "outputs": [
        {
          "output_type": "stream",
          "name": "stdout",
          "text": [
            "Enter any number: 6\n",
            "The number is a Perfect number!\n"
          ]
        }
      ]
    },
    {
      "cell_type": "code",
      "source": [
        "def palindrome (num):\n",
        "  final = num\n",
        "  temp = num\n",
        "  rev = 0\n",
        "  while (num > 0):\n",
        "    last = num % 10\n",
        "    rev = rev * 10 + last\n",
        "    num = num // 10\n",
        "  if (temp == rev):\n",
        "    print (final,\"is a palindrome.\")\n",
        "  else:\n",
        "    print (final,\"is not a palindrome.\")\n",
        "def armstrong (num):\n",
        "  sum = 0\n",
        "  temp = num\n",
        "  while temp > 0:\n",
        "   digit = temp % 10\n",
        "   sum += digit ** 3\n",
        "   temp //= 10\n",
        "  if num == sum:\n",
        "   print(num,\"is an Armstrong number\")\n",
        "  else:\n",
        "   print(num,\"is not an Armstrong number\")\n",
        "\n",
        "def perfect (num):\n",
        "  sum_v=0  \n",
        "  for i in range(1,num):  \n",
        "    if (num%i==0):  \n",
        "        sum_v=sum_v+i  \n",
        "  if(sum_v==num):  \n",
        "    print(num,\"is a perfect number\")  \n",
        "  else:  \n",
        "    print(num,\"is not a perfect number\")  \n",
        "\n",
        "\n",
        "num = int(input(\"Enter a number: \"))\n",
        "palindrome(num)\n",
        "armstrong (num)\n",
        "perfect (num)"
      ],
      "metadata": {
        "id": "ExhkgdzzSHUn",
        "outputId": "c4327557-04e0-4f9e-adaf-62fb4e8e1d34",
        "colab": {
          "base_uri": "https://localhost:8080/"
        }
      },
      "execution_count": 1,
      "outputs": [
        {
          "output_type": "stream",
          "name": "stdout",
          "text": [
            "Enter a number: 6\n",
            "6 is a palindrome.\n",
            "6 is not an Armstrong number\n",
            "6 is a perfect number\n"
          ]
        }
      ]
    },
    {
      "cell_type": "code",
      "source": [
        "##Compute compound interest using loop for a certain principal and interest amount\n",
        "\n",
        "principal=int(input(\"Enter the principle amount:\"))\n",
        "rate=int(input(\"Enter the rate:\"))\n",
        "years=int(input(\"Enter the number of years:\"))\n",
        "n = principal\n",
        "for i in range(years):\n",
        "    n=n+((n*rate)/100)\n",
        "    interest=n-principal\n",
        "print(n)\n",
        "print(interest)"
      ],
      "metadata": {
        "id": "XnK7hrsWSXaZ",
        "outputId": "00958810-72aa-469e-8440-1e235f6059e6",
        "colab": {
          "base_uri": "https://localhost:8080/"
        }
      },
      "execution_count": 2,
      "outputs": [
        {
          "output_type": "stream",
          "name": "stdout",
          "text": [
            "Enter the principle amount:100\n",
            "Enter the rate:2\n",
            "Enter the number of years:6\n",
            "112.61624192640001\n",
            "12.616241926400008\n"
          ]
        }
      ]
    }
  ],
  "metadata": {
    "colab": {
      "collapsed_sections": [],
      "name": "Welcome to Colaboratory",
      "provenance": [],
      "include_colab_link": true
    },
    "kernelspec": {
      "display_name": "Python 3",
      "name": "python3"
    }
  },
  "nbformat": 4,
  "nbformat_minor": 0
}