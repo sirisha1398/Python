{
  "nbformat": 4,
  "nbformat_minor": 0,
  "metadata": {
    "colab": {
      "name": "Tuple",
      "provenance": [],
      "collapsed_sections": [],
      "authorship_tag": "ABX9TyNSqFNdWKlofA8F7H3EYkVh",
      "include_colab_link": true
    },
    "kernelspec": {
      "name": "python3",
      "display_name": "Python 3"
    },
    "language_info": {
      "name": "python"
    }
  },
  "cells": [
    {
      "cell_type": "markdown",
      "metadata": {
        "id": "view-in-github",
        "colab_type": "text"
      },
      "source": [
        "<a href=\"https://colab.research.google.com/github/sirisha1398/Python/blob/main/Tuple.ipynb\" target=\"_parent\"><img src=\"https://colab.research.google.com/assets/colab-badge.svg\" alt=\"Open In Colab\"/></a>"
      ]
    },
    {
      "cell_type": "code",
      "execution_count": 1,
      "metadata": {
        "colab": {
          "base_uri": "https://localhost:8080/"
        },
        "id": "HCXCwODPtNEh",
        "outputId": "58b6226a-112e-47d0-8e07-66de65c92641"
      },
      "outputs": [
        {
          "output_type": "stream",
          "name": "stdout",
          "text": [
            "('apple', 'banana', 'cherry')\n"
          ]
        }
      ],
      "source": [
        "A = (\"apple\", \"banana\", \"cherry\")\n",
        "print(A)"
      ]
    },
    {
      "cell_type": "code",
      "source": [
        "##TUPLE LENGTH\n",
        "\n",
        "A = (\"apple\", \"banana\", \"cherry\")\n",
        "print(len(A))"
      ],
      "metadata": {
        "colab": {
          "base_uri": "https://localhost:8080/"
        },
        "id": "BmiCw0ZdwzkD",
        "outputId": "c8a09f93-7b96-4a49-a91e-7f59630b26bd"
      },
      "execution_count": 2,
      "outputs": [
        {
          "output_type": "stream",
          "name": "stdout",
          "text": [
            "3\n"
          ]
        }
      ]
    },
    {
      "cell_type": "code",
      "source": [
        "##TUPLE WITH ONE LENGTH\n",
        "\n",
        "S = (\"maths\",)\n",
        "print(type(S))\n",
        "\n",
        "S = (\"maths\")\n",
        "print(type(S))"
      ],
      "metadata": {
        "colab": {
          "base_uri": "https://localhost:8080/"
        },
        "id": "Wgpc3sJ-xPuZ",
        "outputId": "62a28be9-ec44-40f3-bd69-366e8aac96a8"
      },
      "execution_count": 5,
      "outputs": [
        {
          "output_type": "stream",
          "name": "stdout",
          "text": [
            "<class 'tuple'>\n",
            "<class 'str'>\n"
          ]
        }
      ]
    },
    {
      "cell_type": "code",
      "source": [
        "##PRINT SECOND NAME\n",
        "\n",
        "P=(\"siri\", \"su\", \"t\")\n",
        "print(P[1])"
      ],
      "metadata": {
        "colab": {
          "base_uri": "https://localhost:8080/"
        },
        "id": "Kv6YcFcWyLhM",
        "outputId": "493af1f0-7ada-4e4a-a3a8-aa2383a1dd32"
      },
      "execution_count": 8,
      "outputs": [
        {
          "output_type": "stream",
          "name": "stdout",
          "text": [
            "su\n"
          ]
        }
      ]
    },
    {
      "cell_type": "code",
      "source": [
        "## NEGATIVE INDEXING\n",
        "\n",
        "P=(\"siri\", \"su\", \"t\")\n",
        "print(P[-1])"
      ],
      "metadata": {
        "colab": {
          "base_uri": "https://localhost:8080/"
        },
        "id": "Z_hYm4jTy3T4",
        "outputId": "0defde82-34f8-4fe8-8c46-2f2e7b683f24"
      },
      "execution_count": 9,
      "outputs": [
        {
          "output_type": "stream",
          "name": "stdout",
          "text": [
            "t\n"
          ]
        }
      ]
    },
    {
      "cell_type": "code",
      "source": [
        "##RANGE OF INDEXES\n",
        "\n",
        "\n",
        "P=(\"siri\", \"su\", \"t\", \"praisy\", \"jyoshi\", \"fairy\", \"abhi\")\n",
        "print(P[2:5])"
      ],
      "metadata": {
        "colab": {
          "base_uri": "https://localhost:8080/"
        },
        "id": "wufTAJnuzUrf",
        "outputId": "77160c17-e519-45fb-c2b7-1940f395186e"
      },
      "execution_count": 14,
      "outputs": [
        {
          "output_type": "stream",
          "name": "stdout",
          "text": [
            "('t', 'praisy', 'jyoshi')\n"
          ]
        }
      ]
    },
    {
      "cell_type": "code",
      "source": [
        "##FIRST VALUES\n",
        "\n",
        "P=(\"siri\", \"su\", \"t\", \"praisy\", \"jyoshi\", \"fairy\", \"abhi\")\n",
        "print(P[:4])"
      ],
      "metadata": {
        "colab": {
          "base_uri": "https://localhost:8080/"
        },
        "id": "aCd9Tn7D0ApJ",
        "outputId": "69d80328-f6b2-43a5-b6cc-fe5695898f1d"
      },
      "execution_count": 15,
      "outputs": [
        {
          "output_type": "stream",
          "name": "stdout",
          "text": [
            "('siri', 'su', 't', 'praisy')\n"
          ]
        }
      ]
    },
    {
      "cell_type": "code",
      "source": [
        "##LAST VALUES\n",
        "\n",
        "P=(\"siri\", \"su\", \"t\", \"praisy\", \"jyoshi\", \"fairy\", \"abhi\")\n",
        "print(P[4:])"
      ],
      "metadata": {
        "colab": {
          "base_uri": "https://localhost:8080/"
        },
        "id": "Z5HS1a_F0Tmw",
        "outputId": "3777f578-f8fd-4e79-8224-98ee0cd22abd"
      },
      "execution_count": 17,
      "outputs": [
        {
          "output_type": "stream",
          "name": "stdout",
          "text": [
            "('jyoshi', 'fairy', 'abhi')\n"
          ]
        }
      ]
    },
    {
      "cell_type": "code",
      "source": [
        "##RANGE OF NEGATIVE INDEXES\n",
        "\n",
        "P=(\"siri\", \"su\", \"t\", \"praisy\", \"jyoshi\", \"fairy\", \"abhi\")\n",
        "print(P[-4:-1])"
      ],
      "metadata": {
        "colab": {
          "base_uri": "https://localhost:8080/"
        },
        "id": "HpTlLTbQ1Wkf",
        "outputId": "4b0a1fcb-533d-46af-847d-00e2a89a2fbc"
      },
      "execution_count": 18,
      "outputs": [
        {
          "output_type": "stream",
          "name": "stdout",
          "text": [
            "('praisy', 'jyoshi', 'fairy')\n"
          ]
        }
      ]
    },
    {
      "cell_type": "code",
      "source": [
        "##CHECK IF IT EXISTS\n",
        "\n",
        "P=(\"siri\", \"su\", \"t\", \"praisy\", \"jyoshi\", \"fairy\", \"abhi\")\n",
        "if \"abhi\" in P:\n",
        "  print(\"Yes, 'abhi' is in the names tuple\")\n"
      ],
      "metadata": {
        "colab": {
          "base_uri": "https://localhost:8080/"
        },
        "id": "u-tQi_RY2qc2",
        "outputId": "d7a1bceb-6343-4dae-df6a-97f7ee7bae9c"
      },
      "execution_count": 19,
      "outputs": [
        {
          "output_type": "stream",
          "name": "stdout",
          "text": [
            "Yes, 'abhi' is in the names tuple\n"
          ]
        }
      ]
    },
    {
      "cell_type": "code",
      "source": [
        "##C0NVERSION OF TABLE INTO LIST:\n",
        "\n",
        "x = (\"apple\", \"banana\", \"cherry\")\n",
        "y = list(x)\n",
        "y[1] = \"kiwi\"\n",
        "x = tuple(y)\n",
        "\n",
        "print(x)"
      ],
      "metadata": {
        "colab": {
          "base_uri": "https://localhost:8080/"
        },
        "id": "eeC_3tEc3tnQ",
        "outputId": "c1851f92-7ae4-479d-ea9f-c08a535eacda"
      },
      "execution_count": 20,
      "outputs": [
        {
          "output_type": "stream",
          "name": "stdout",
          "text": [
            "('apple', 'kiwi', 'cherry')\n"
          ]
        }
      ]
    },
    {
      "cell_type": "code",
      "source": [
        "##ADD ITEMS\n",
        "\n",
        "thistuple = (\"MARSHMELLOW\", \"BROWNIES\", \"PASTA\")\n",
        "y = list(thistuple)\n",
        "y.append(\"CHOCOS\")\n",
        "thistuple = tuple(y)\n",
        "print(thistuple)"
      ],
      "metadata": {
        "colab": {
          "base_uri": "https://localhost:8080/"
        },
        "id": "GSD7eF0u4reW",
        "outputId": "8ff425c3-ecb2-44fd-990c-0a648e96e3c8"
      },
      "execution_count": 31,
      "outputs": [
        {
          "output_type": "stream",
          "name": "stdout",
          "text": [
            "('MARSHMELLOW', 'BROWNIES', 'PASTA', 'CHOCOS')\n"
          ]
        }
      ]
    },
    {
      "cell_type": "code",
      "source": [
        "##ADD TUPLE TO A TUPLE\n",
        "\n",
        "x = (\"apple\", \"banana\", \"cherry\")\n",
        "y = (\"orange\",)\n",
        "thistuple += y\n",
        "\n",
        "print(y)"
      ],
      "metadata": {
        "colab": {
          "base_uri": "https://localhost:8080/"
        },
        "id": "C_3xR6Ae5lyG",
        "outputId": "82ba7c5d-ef21-4f09-ef2f-ebe32d5a5de5"
      },
      "execution_count": 35,
      "outputs": [
        {
          "output_type": "stream",
          "name": "stdout",
          "text": [
            "('orange',)\n"
          ]
        }
      ]
    },
    {
      "cell_type": "code",
      "source": [
        "##REMOVE ITEMS\n",
        "\n",
        "thistuple = (\"apple\", \"banana\", \"cherry\")\n",
        "y = list(thistuple)\n",
        "y.remove(\"apple\")\n",
        "thistuple = tuple(y)\n",
        "\n",
        "print(thistuple)"
      ],
      "metadata": {
        "colab": {
          "base_uri": "https://localhost:8080/"
        },
        "id": "NI6fA-oD59oG",
        "outputId": "91715de9-9321-4da9-a744-2e61bd4cc8e6"
      },
      "execution_count": 39,
      "outputs": [
        {
          "output_type": "stream",
          "name": "stdout",
          "text": [
            "('banana', 'cherry')\n"
          ]
        }
      ]
    },
    {
      "cell_type": "code",
      "source": [
        "##PACKING A TUPLE\n",
        "\n",
        "fruits = (\"apple\", \"banana\", \"cherry\")\n",
        "print(fruits)"
      ],
      "metadata": {
        "colab": {
          "base_uri": "https://localhost:8080/"
        },
        "id": "uvhMKEvx65Cv",
        "outputId": "3c5865e5-52d6-471d-963b-487b8647b0a1"
      },
      "execution_count": 44,
      "outputs": [
        {
          "output_type": "stream",
          "name": "stdout",
          "text": [
            "('apple', 'banana', 'cherry')\n"
          ]
        }
      ]
    },
    {
      "cell_type": "code",
      "source": [
        "##UNPACKING A TUPLE\n",
        "\n",
        "fruits = (\"apple\", \"banana\", \"cherry\")\n",
        "\n",
        "(green, yellow, red) = fruits\n",
        "\n",
        "print(green)\n",
        "print(yellow)\n",
        "print(red)"
      ],
      "metadata": {
        "colab": {
          "base_uri": "https://localhost:8080/"
        },
        "id": "xDRDxYYU700_",
        "outputId": "af45cdda-d1bd-4bb6-c6b5-3a32c50125da"
      },
      "execution_count": 45,
      "outputs": [
        {
          "output_type": "stream",
          "name": "stdout",
          "text": [
            "apple\n",
            "banana\n",
            "cherry\n"
          ]
        }
      ]
    },
    {
      "cell_type": "code",
      "source": [
        "fruits = (\"apple\", \"banana\", \"cherry\", \"strawberry\", \"raspberry\")\n",
        "\n",
        "(green, yellow, *red) = fruits\n",
        "\n",
        "print(green)\n",
        "print(yellow)\n",
        "print(red)"
      ],
      "metadata": {
        "colab": {
          "base_uri": "https://localhost:8080/"
        },
        "id": "SNn09ndE8Rge",
        "outputId": "3b97aec5-91c6-4312-a337-dc4a931f136e"
      },
      "execution_count": 47,
      "outputs": [
        {
          "output_type": "stream",
          "name": "stdout",
          "text": [
            "apple\n",
            "banana\n",
            "['cherry', 'strawberry', 'raspberry']\n"
          ]
        }
      ]
    },
    {
      "cell_type": "code",
      "source": [
        "fruits = (\"apple\", \"mango\", \"papaya\", \"pineapple\", \"cherry\")\n",
        "\n",
        "(green, *tropic, red) = fruits\n",
        "\n",
        "print(green)\n",
        "print(tropic)\n",
        "print(red)"
      ],
      "metadata": {
        "colab": {
          "base_uri": "https://localhost:8080/"
        },
        "id": "fMDXAMAF81rW",
        "outputId": "f8f644b5-9b22-42c7-d6aa-a3fef8882aea"
      },
      "execution_count": 48,
      "outputs": [
        {
          "output_type": "stream",
          "name": "stdout",
          "text": [
            "apple\n",
            "['mango', 'papaya', 'pineapple']\n",
            "cherry\n"
          ]
        }
      ]
    }
  ]
}